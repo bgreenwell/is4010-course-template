{
 "cells": [
  {
   "cell_type": "markdown",
   "metadata": {},
   "source": [
    "# IS4010: AI-Enhanced Application Development\n",
    "## Week 5: Functions & Error Handling\n",
    "\n",
    "**Course:** IS4010 - AI-Enhanced Application Development  \n",
    "**Instructor:** Brandon M. Greenwell  \n",
    "**Topic:** Functions & Error Handling  "
   ]
  },
  {
   "cell_type": "markdown",
   "metadata": {},
   "source": [
    "# Welcome to Functions & Error Handling 🔧\n",
    "\n",
    "## Building robust, reusable code 🏗️\n",
    "\n",
    "- **Functions** are the building blocks of maintainable software\n",
    "- **Error handling** makes your applications bulletproof\n",
    "- **Career relevance**: Essential skills for any software development role\n",
    "- **Code quality**: Write once, use everywhere - the foundation of professional development\n",
    "- **User experience**: Graceful error handling prevents crashes and frustrated users"
   ]
  },
  {
   "cell_type": "markdown",
   "metadata": {},
   "source": [
    "# Session 1: Writing clean functions"
   ]
  },
  {
   "cell_type": "markdown",
   "metadata": {},
   "source": [
    "## Why use functions? 🤔\n",
    "\n",
    "- The most important reason is the **DRY** principle: **d**on't **r**epeat **y**ourself\n",
    "- [Functions](https://docs.python.org/3/tutorial/controlflow.html#defining-functions) allow us to break down large, complex problems into smaller, logical, and more manageable pieces\n",
    "- This makes our code easier to read, test, and debug\n",
    "- It also promotes reusability. You can write a function once and use it many times throughout your application\n",
    "- **Performance**: Well-designed functions can be optimized and cached"
   ]
  },
  {
   "cell_type": "markdown",
   "metadata": {},
   "source": [
    "## The anatomy of a Python function 🔍\n",
    "\n",
    "- Let's break down the core components of a modern [Python function](https://docs.python.org/3/tutorial/controlflow.html#defining-functions)\n",
    "- We use the `def` keyword, a descriptive name, parameters with [type hints](https://docs.python.org/3/library/typing.html), a return type, and a docstring (here we're using a [numpy-style docstring](https://numpydoc.readthedocs.io/en/latest/format.html))\n",
    "- **Professional standard**: Type hints help catch bugs and make code self-documenting\n",
    "- **Documentation**: Good docstrings explain the 'why', not just the 'what'"
   ]
  },
  {
   "cell_type": "code",
   "execution_count": 1,
   "metadata": {},
   "outputs": [],
   "source": [
    "def calculate_area(length: float, width: float) -> float:\n",
    "    \"\"\"Calculate the area of a rectangle.\n",
    "\n",
    "    Parameters\n",
    "    ----------\n",
    "    length : float\n",
    "        The length of the rectangle.\n",
    "    width : float\n",
    "        The width of the rectangle.\n",
    "\n",
    "    Returns\n",
    "    -------\n",
    "    float\n",
    "        The calculated area of the rectangle.\n",
    "    \"\"\"\n",
    "    return length * width"
   ]
  },
  {
   "cell_type": "markdown",
   "metadata": {},
   "source": [
    "## Understanding variable scope 🎯\n",
    "\n",
    "- **[Scope](https://docs.python.org/3/tutorial/classes.html#python-scopes-and-namespaces)** refers to the region of code where a variable is accessible\n",
    "- Variables created inside a function have **local scope**. They only exist within that function\n",
    "- Variables created outside of any function have **global scope**\n",
    "- This is a good thing! It prevents functions from accidentally modifying variables they shouldn't have access to\n",
    "- **LEGB Rule**: Local → Enclosing → Global → Built-in (scope resolution order)"
   ]
  },
  {
   "cell_type": "code",
   "execution_count": 6,
   "metadata": {},
   "outputs": [
    {
     "name": "stdout",
     "output_type": "stream",
     "text": [
      "Inside the function, the number is 42\n"
     ]
    }
   ],
   "source": [
    "def my_function():\n",
    "    # secret_number has local scope\n",
    "    secret_number = 42\n",
    "    print(\"Inside the function, the number is\", secret_number)\n",
    "\n",
    "my_function()\n",
    "# This next line would cause a NameError!\n",
    "# print(\"Outside the function, the number is\", secret_number)"
   ]
  },
  {
   "cell_type": "markdown",
   "metadata": {},
   "source": [
    "## Function parameters: the basics 📝\n",
    "\n",
    "- **[Parameters](https://docs.python.org/3/tutorial/controlflow.html#more-on-defining-functions)** are variables that receive values when a function is called\n",
    "- **Arguments** are the actual values passed to the function\n",
    "- **Positional arguments**: Order matters - first argument goes to first parameter\n",
    "- **Keyword arguments**: Use parameter names - order doesn't matter\n",
    "- **Best practice**: Use keyword arguments for clarity in function calls"
   ]
  },
  {
   "cell_type": "code",
   "execution_count": null,
   "metadata": {},
   "outputs": [],
   "source": [
    "def create_user_profile(name: str, age: int, city: str) -> dict:\n",
    "    \"\"\"Create a user profile dictionary.\"\"\"\n",
    "    return {\n",
    "        \"name\": name,\n",
    "        \"age\": age,\n",
    "        \"city\": city,\n",
    "        \"account_created\": \"today\"\n",
    "    }\n",
    "\n",
    "# Positional arguments (order matters)\n",
    "profile1 = create_user_profile(\"Alice\", 30, \"Cincinnati\")\n",
    "\n",
    "# Keyword arguments (order doesn't matter)\n",
    "profile2 = create_user_profile(city=\"Columbus\", name=\"Bob\", age=25)"
   ]
  },
  {
   "cell_type": "markdown",
   "metadata": {},
   "source": [
    "## Default parameters: making functions flexible 🔧\n",
    "\n",
    "- **[Default parameters](https://docs.python.org/3/tutorial/controlflow.html#default-argument-values)** provide fallback values when arguments aren't provided\n",
    "- Make your functions more user-friendly and reduce duplicate code\n",
    "- **Rule**: Default parameters must come after non-default parameters\n",
    "- **Common pattern**: Use `None` as default, then check and assign actual default in function body\n",
    "- **Gotcha**: Never use mutable objects (lists, dicts) as default values"
   ]
  },
  {
   "cell_type": "code",
   "execution_count": null,
   "metadata": {},
   "outputs": [],
   "source": [
    "def send_notification(message: str, urgency: str = \"normal\",\n",
    "                     channels: list = None) -> dict:\n",
    "    \"\"\"Send a notification through specified channels.\"\"\"\n",
    "    if channels is None:\n",
    "        channels = [\"email\"]  # Safe default assignment\n",
    "\n",
    "    return {\n",
    "        \"message\": message,\n",
    "        \"urgency\": urgency,\n",
    "        \"channels\": channels,\n",
    "        \"timestamp\": \"2024-03-15T10:30:00\"\n",
    "    }\n",
    "\n",
    "# Uses defaults\n",
    "result1 = send_notification(\"Server backup complete\")\n",
    "\n",
    "# Overrides defaults\n",
    "result2 = send_notification(\"Critical error!\", \"high\", [\"email\", \"slack\", \"phone\"])"
   ]
  },
  {
   "cell_type": "markdown",
   "metadata": {},
   "source": [
    "## Variable-length arguments: *args and **kwargs 🌟\n",
    "\n",
    "- **[*args](https://docs.python.org/3/tutorial/controlflow.html#arbitrary-argument-lists)**: Accepts any number of positional arguments as a tuple\n",
    "- **[**kwargs](https://docs.python.org/3/tutorial/controlflow.html#keyword-arguments)**: Accepts any number of keyword arguments as a dictionary\n",
    "- **Use cases**: Building flexible APIs, wrapper functions, decorator patterns\n",
    "- **Convention**: Names `args` and `kwargs` are standard (but you can use other names)\n",
    "- **Order matters**: `def func(required, *args, **kwargs):`"
   ]
  },
  {
   "cell_type": "code",
   "execution_count": null,
   "metadata": {},
   "outputs": [],
   "source": [
    "def analyze_user_data(user_id: int, *metrics: str, **options) -> dict:\n",
    "    \"\"\"Analyze user data with flexible metrics and options.\"\"\"\n",
    "    print(f\"Analyzing user {user_id}\")\n",
    "    print(f\"Metrics to analyze: {metrics}\")  # Tuple of strings\n",
    "    print(f\"Analysis options: {options}\")     # Dictionary\n",
    "\n",
    "    results = {\"user_id\": user_id, \"metrics_count\": len(metrics)}\n",
    "\n",
    "    # Process each metric\n",
    "    for metric in metrics:\n",
    "        results[f\"{metric}_score\"] = 85  # Simulated analysis\n",
    "\n",
    "    # Apply options\n",
    "    if options.get(\"detailed\", False):\n",
    "        results[\"detailed_breakdown\"] = \"Available\"\n",
    "\n",
    "    return results\n",
    "\n",
    "# Flexible function calls\n",
    "result1 = analyze_user_data(123, \"engagement\", \"retention\")\n",
    "result2 = analyze_user_data(456, \"clicks\", \"views\", \"shares\",\n",
    "                           detailed=True, format=\"json\")"
   ]
  },
  {
   "cell_type": "markdown",
   "metadata": {},
   "source": [
    "## Working with dictionaries and lists 📊\n",
    "\n",
    "- **Passing dictionaries**: Functions can accept and return complex data structures\n",
    "- **Dictionary unpacking**: Use `**dict` to pass dictionary as keyword arguments\n",
    "- **List unpacking**: Use `*list` to pass list items as positional arguments\n",
    "- **Modifying vs. returning**: Be clear about whether you modify in-place or return new data\n",
    "- **Performance consideration**: Large dictionaries are passed by reference, not copied"
   ]
  },
  {
   "cell_type": "code",
   "execution_count": null,
   "metadata": {},
   "outputs": [],
   "source": [
    "def update_user_settings(user_data: dict, **new_settings) -> dict:\n",
    "    \"\"\"Update user settings, returning a new dictionary.\"\"\"\n",
    "    # Create a copy to avoid modifying original\n",
    "    updated_data = user_data.copy()\n",
    "    updated_data.update(new_settings)\n",
    "    return updated_data\n",
    "\n",
    "def calculate_statistics(numbers: list[float]) -> dict:\n",
    "    \"\"\"Calculate basic statistics from a list of numbers.\"\"\"\n",
    "    if not numbers:\n",
    "        return {\"error\": \"Empty list provided\"}\n",
    "\n",
    "    return {\n",
    "        \"count\": len(numbers),\n",
    "        \"sum\": sum(numbers),\n",
    "        \"average\": sum(numbers) / len(numbers),\n",
    "        \"min\": min(numbers),\n",
    "        \"max\": max(numbers)\n",
    "    }\n",
    "\n",
    "# Example usage\n",
    "user = {\"name\": \"Alice\", \"theme\": \"dark\", \"notifications\": True}\n",
    "preferences = {\"theme\": \"light\", \"language\": \"es\"}\n",
    "\n",
    "# Update settings using dictionary unpacking\n",
    "updated_user = update_user_settings(user, **preferences)\n",
    "\n",
    "# Work with lists\n",
    "scores = [85.5, 92.0, 78.5, 96.0, 89.5]\n",
    "stats = calculate_statistics(scores)"
   ]
  },
  {
   "cell_type": "markdown",
   "metadata": {},
   "source": [
    "## Function design principles 🎨\n",
    "\n",
    "- **Single Responsibility**: Each function should do one thing well\n",
    "- **Pure functions**: Same input → same output, no side effects (when possible)\n",
    "- **Clear naming**: Function names should describe what they do, not how\n",
    "- **Reasonable length**: If a function is over 20-30 lines, consider splitting it\n",
    "- **Return consistency**: Always return the same type, or use Union types with type hints"
   ]
  },
  {
   "cell_type": "code",
   "execution_count": null,
   "metadata": {},
   "outputs": [],
   "source": [
    "# GOOD: Single responsibility, clear purpose\n",
    "def calculate_order_total(items: list[dict]) -> float:\n",
    "    \"\"\"Calculate the total cost of items in an order.\"\"\"\n",
    "    return sum(item[\"price\"] * item[\"quantity\"] for item in items)\n",
    "\n",
    "def apply_discount(total: float, discount_percent: float) -> float:\n",
    "    \"\"\"Apply a percentage discount to a total.\"\"\"\n",
    "    return total * (1 - discount_percent / 100)\n",
    "\n",
    "def format_currency(amount: float) -> str:\n",
    "    \"\"\"Format a number as currency.\"\"\"\n",
    "    return f\"${amount:.2f}\"\n",
    "\n",
    "# BAD: Multiple responsibilities in one function\n",
    "def process_order_badly(items, discount, tax_rate):\n",
    "    total = 0\n",
    "    for item in items:\n",
    "        total += item[\"price\"] * item[\"quantity\"]\n",
    "\n",
    "    discounted = total * (1 - discount / 100)\n",
    "    with_tax = discounted * (1 + tax_rate / 100)\n",
    "    formatted = f\"${with_tax:.2f}\"\n",
    "\n",
    "    print(f\"Order processed: {formatted}\")  # Side effect!\n",
    "    return with_tax  # Returns number, but also prints"
   ]
  },
  {
   "cell_type": "markdown",
   "metadata": {},
   "source": [
    "## AI-assisted refactoring 🤖\n",
    "\n",
    "- One of the most powerful uses for an AI partner is **[refactoring](https://refactoring.com/)** code\n",
    "- You can give it a messy, procedural script and ask it to break it down into clean, reusable functions\n",
    "- **Career skill**: Refactoring is a daily activity for professional developers\n",
    "- **Collaborative process**: Use AI suggestions as starting points, then apply your judgment\n",
    "- **Quality improvement**: Focus on readability, testability, and maintainability\n",
    "\n",
    "**Effective refactoring prompts:**\n",
    "```\n",
    "\"Act as a senior Python developer. Review this script and refactor it into\n",
    "clean, reusable functions. Each function should:\n",
    "- Have a single, clear responsibility\n",
    "- Include type hints and numpy-style docstrings\n",
    "- Handle edge cases appropriately\n",
    "- Follow PEP 8 naming conventions\"\n",
    "```\n",
    "\n",
    "**What to ask for:**\n",
    "- Specific function separation suggestions\n",
    "- Error handling improvements\n",
    "- Performance optimization opportunities\n",
    "- Code organization and module structure"
   ]
  },
  {
   "cell_type": "markdown",
   "metadata": {},
   "source": [
    "# Session 2: Building robust code"
   ]
  },
  {
   "cell_type": "markdown",
   "metadata": {},
   "source": [
    "## Why error handling matters 💪\n",
    "\n",
    "- **User experience**: Crashes vs. graceful error messages make the difference\n",
    "- **Production systems**: Unhandled errors can take down entire applications\n",
    "- **Data integrity**: Proper error handling prevents corrupt data\n",
    "- **Debugging**: Good error handling provides clear information about what went wrong\n",
    "- **Professional development**: Error handling separates amateur from professional code"
   ]
  },
  {
   "cell_type": "markdown",
   "metadata": {},
   "source": [
    "## When things go wrong: exceptions 🚨\n",
    "\n",
    "- A **[syntax error](https://docs.python.org/3/tutorial/errors.html#syntax-errors)** is like bad grammar; Python doesn't even understand the code, so it won't run\n",
    "- A **[runtime error](https://docs.python.org/3/tutorial/errors.html#exceptions)**, or **exception**, happens while the program is running\n",
    "- The code is syntactically correct, but something unexpected occurred\n",
    "- **Common examples**: Dividing by zero, opening nonexistent files, accessing invalid list indices\n",
    "- **Unhandled exceptions** will crash your program and frustrate users"
   ]
  },
  {
   "cell_type": "code",
   "execution_count": null,
   "metadata": {},
   "outputs": [],
   "source": [
    "# Syntax error - won't even run\n",
    "# print(\"Hello world\"  # Missing closing parenthesis\n",
    "\n",
    "# Runtime errors - code runs until exception occurs\n",
    "# Uncomment these lines to see the errors:\n",
    "\n",
    "# numbers = [1, 2, 3]\n",
    "# print(numbers[10])  # IndexError: list index out of range\n",
    "\n",
    "# result = 10 / 0     # ZeroDivisionError: division by zero\n",
    "\n",
    "# age = int(\"not a number\")  # ValueError: invalid literal for int()\n",
    "\n",
    "print(\"These examples show common runtime errors - uncomment to see them!\")"
   ]
  },
  {
   "cell_type": "markdown",
   "metadata": {},
   "source": [
    "## Handling exceptions with try and except 🛡️\n",
    "\n",
    "- We can handle these errors gracefully using a **[try...except](https://docs.python.org/3/tutorial/errors.html#handling-exceptions)** block\n",
    "- The `try` block contains the code that might fail\n",
    "- The `except` block contains the code that runs *only if* an error occurs in the `try` block\n",
    "- **Best practice**: Catch specific exceptions so you can handle different errors appropriately\n",
    "- **Never use bare except**: Always specify which exceptions you're catching"
   ]
  },
  {
   "cell_type": "code",
   "execution_count": null,
   "metadata": {},
   "outputs": [],
   "source": [
    "def safe_divide(a: float, b: float) -> float | None:\n",
    "    \"\"\"Safely divide two numbers, returning None if division fails.\"\"\"\n",
    "    try:\n",
    "        result = a / b\n",
    "        return result\n",
    "    except ZeroDivisionError:\n",
    "        print(f\"Cannot divide {a} by zero\")\n",
    "        return None\n",
    "    except TypeError:\n",
    "        print(\"Both arguments must be numbers\")\n",
    "        return None\n",
    "\n",
    "# Usage examples\n",
    "print(safe_divide(10, 2))    # 5.0\n",
    "print(safe_divide(10, 0))    # Cannot divide 10 by zero, returns None\n",
    "print(safe_divide(10, \"x\"))  # Both arguments must be numbers, returns None"
   ]
  },
  {
   "cell_type": "markdown",
   "metadata": {},
   "source": [
    "## Python's exception hierarchy 🌳\n",
    "\n",
    "- **[Exception hierarchy](https://docs.python.org/3/library/exceptions.html#exception-hierarchy)**: All exceptions inherit from `BaseException`\n",
    "- **Most exceptions** inherit from `Exception` (the ones you typically catch)\n",
    "- **Common built-in exceptions**: Each serves a specific purpose\n",
    "- **Inheritance matters**: Catching `Exception` catches all its subclasses\n",
    "- **Order matters**: More specific exceptions must come before general ones"
   ]
  },
  {
   "cell_type": "code",
   "execution_count": null,
   "metadata": {},
   "outputs": [],
   "source": [
    "# Common exception types and when they occur\n",
    "def demonstrate_exceptions():\n",
    "    examples = {\n",
    "        \"ValueError\": \"int('not_a_number')\",\n",
    "        \"TypeError\": \"'hello' + 5\",\n",
    "        \"KeyError\": \"{'a': 1}['missing_key']\",\n",
    "        \"IndexError\": \"[1, 2, 3][10]\",\n",
    "        \"FileNotFoundError\": \"open('nonexistent.txt')\",\n",
    "        \"ZeroDivisionError\": \"10 / 0\",\n",
    "        \"AttributeError\": \"'hello'.nonexistent_method()\"\n",
    "    }\n",
    "\n",
    "    for exception_type, code in examples.items():\n",
    "        print(f\"{exception_type}: {code}\")\n",
    "\n",
    "# Multiple exception handling\n",
    "def robust_data_processing(data: dict, key: str) -> str:\n",
    "    try:\n",
    "        value = data[key]           # Could raise KeyError\n",
    "        number = int(value)         # Could raise ValueError\n",
    "        result = 100 / number       # Could raise ZeroDivisionError\n",
    "        return f\"Result: {result}\"\n",
    "    except KeyError:\n",
    "        return f\"Key '{key}' not found in data\"\n",
    "    except ValueError:\n",
    "        return f\"Value '{data[key]}' is not a valid number\"\n",
    "    except ZeroDivisionError:\n",
    "        return \"Cannot divide by zero\"\n",
    "    except Exception as e:  # Catch any other unexpected exceptions\n",
    "        return f\"Unexpected error: {e}\""
   ]
  },
  {
   "cell_type": "markdown",
   "metadata": {},
   "source": [
    "## Creating custom exceptions 🎨\n",
    "\n",
    "- **[Custom exceptions](https://docs.python.org/3/tutorial/errors.html#user-defined-exceptions)**: Create your own exception types for specific scenarios\n",
    "- **Inherit from Exception**: Custom exceptions should inherit from `Exception` or its subclasses\n",
    "- **Clear naming**: Exception names should end with \"Error\" and describe the problem\n",
    "- **Add context**: Custom exceptions can carry additional information\n",
    "- **When to use**: Domain-specific errors that don't fit built-in exception types"
   ]
  },
  {
   "cell_type": "code",
   "execution_count": null,
   "metadata": {},
   "outputs": [],
   "source": [
    "class InsufficientFundsError(Exception):\n",
    "    \"\"\"Raised when account doesn't have enough money for transaction.\"\"\"\n",
    "    def __init__(self, balance: float, amount: float):\n",
    "        self.balance = balance\n",
    "        self.amount = amount\n",
    "        self.shortfall = amount - balance\n",
    "        super().__init__(f\"Insufficient funds: need ${amount}, have ${balance}\")\n",
    "\n",
    "class InvalidUserAgeError(Exception):\n",
    "    \"\"\"Raised when user age is outside valid range.\"\"\"\n",
    "    pass\n",
    "\n",
    "def withdraw_money(balance: float, amount: float) -> float:\n",
    "    \"\"\"Withdraw money from account, raising custom exception if insufficient funds.\"\"\"\n",
    "    if amount > balance:\n",
    "        raise InsufficientFundsError(balance, amount)\n",
    "    return balance - amount\n",
    "\n",
    "def validate_user_age(age: int) -> bool:\n",
    "    \"\"\"Validate user age, raising custom exception if invalid.\"\"\"\n",
    "    if not (13 <= age <= 120):\n",
    "        raise InvalidUserAgeError(f\"Age {age} is not valid (must be 13-120)\")\n",
    "    return True\n",
    "\n",
    "# Usage with custom exception handling\n",
    "try:\n",
    "    new_balance = withdraw_money(50.0, 75.0)\n",
    "except InsufficientFundsError as e:\n",
    "    print(f\"Transaction failed: {e}\")\n",
    "    print(f\"You need ${e.shortfall:.2f} more\")"
   ]
  },
  {
   "cell_type": "markdown",
   "metadata": {},
   "source": [
    "## The else and finally clauses 🎯\n",
    "\n",
    "- We can add two more optional clauses to our error handling\n",
    "- The **[else](https://docs.python.org/3/tutorial/errors.html#defining-clean-up-actions)** block runs only if the `try` block completes successfully (no exception was raised)\n",
    "- The **[finally](https://docs.python.org/3/tutorial/errors.html#defining-clean-up-actions)** block runs **no matter what** - perfect for cleanup code\n",
    "- **Best practice**: Use `finally` for resource cleanup (files, network connections, locks)\n",
    "- **Performance consideration**: `finally` ensures cleanup even if exceptions are re-raised"
   ]
  },
  {
   "cell_type": "code",
   "execution_count": null,
   "metadata": {},
   "outputs": [],
   "source": [
    "def process_user_data(filename: str) -> dict:\n",
    "    \"\"\"Process user data from file with proper cleanup.\"\"\"\n",
    "    file_handle = None\n",
    "    try:\n",
    "        file_handle = open(filename, 'r')\n",
    "        data = file_handle.read()\n",
    "        parsed_data = eval(data)  # Dangerous! Just for demonstration\n",
    "        return {\"status\": \"success\", \"data\": parsed_data}\n",
    "    except FileNotFoundError:\n",
    "        return {\"status\": \"error\", \"message\": f\"File {filename} not found\"}\n",
    "    except SyntaxError:\n",
    "        return {\"status\": \"error\", \"message\": \"Invalid data format in file\"}\n",
    "    else:\n",
    "        print(\"File processed successfully - no exceptions occurred\")\n",
    "        return {\"status\": \"success\", \"message\": \"Data processed\"}\n",
    "    finally:\n",
    "        # This ALWAYS runs - exception or not\n",
    "        if file_handle and not file_handle.closed:\n",
    "            file_handle.close()\n",
    "            print(\"File closed in finally block\")\n",
    "\n",
    "# Demonstrate all clauses\n",
    "result = process_user_data(\"user_data.txt\")\n",
    "print(f\"Result: {result}\")"
   ]
  },
  {
   "cell_type": "markdown",
   "metadata": {},
   "source": [
    "## Context managers: the with statement 🔐\n",
    "\n",
    "- **[Context managers](https://docs.python.org/3/library/stdtypes.html#context-manager-types)**: Automatically handle setup and cleanup operations\n",
    "- **The `with` statement**: Guarantees cleanup even if exceptions occur\n",
    "- **Most common use**: File operations - automatically closes files\n",
    "- **Professional standard**: Always use `with` for file operations\n",
    "- **Under the hood**: Uses `__enter__` and `__exit__` methods"
   ]
  },
  {
   "cell_type": "code",
   "execution_count": null,
   "metadata": {},
   "outputs": [],
   "source": [
    "# OLD WAY: Manual file handling (error-prone)\n",
    "def read_config_old(filename: str) -> dict:\n",
    "    try:\n",
    "        file = open(filename, 'r')\n",
    "        content = file.read()\n",
    "        return {\"content\": content}\n",
    "    except FileNotFoundError:\n",
    "        return {\"error\": \"File not found\"}\n",
    "    finally:\n",
    "        if 'file' in locals() and not file.closed:\n",
    "            file.close()\n",
    "\n",
    "# NEW WAY: Context manager (automatic cleanup)\n",
    "def read_config_new(filename: str) -> dict:\n",
    "    try:\n",
    "        with open(filename, 'r') as file:\n",
    "            content = file.read()\n",
    "            return {\"content\": content}\n",
    "    except FileNotFoundError:\n",
    "        return {\"error\": \"File not found\"}\n",
    "    # File automatically closed here, even if exception occurs!\n",
    "\n",
    "# Multiple files with context managers\n",
    "def compare_files(file1: str, file2: str) -> bool:\n",
    "    try:\n",
    "        with open(file1, 'r') as f1, open(file2, 'r') as f2:\n",
    "            return f1.read() == f2.read()\n",
    "    except FileNotFoundError:\n",
    "        return False\n",
    "    # Both files automatically closed"
   ]
  },
  {
   "cell_type": "markdown",
   "metadata": {},
   "source": [
    "## Defensive programming: input validation 🛡️\n",
    "\n",
    "- **Defensive programming**: Write code that protects against invalid inputs\n",
    "- **Input validation**: Check arguments before processing them\n",
    "- **Early return pattern**: Validate first, process later\n",
    "- **Clear error messages**: Help users understand what went wrong\n",
    "- **Type checking**: Use type hints and runtime validation together"
   ]
  },
  {
   "cell_type": "code",
   "execution_count": null,
   "metadata": {},
   "outputs": [],
   "source": [
    "def create_user_account(username: str, age: int, email: str) -> dict:\n",
    "    \"\"\"Create user account with comprehensive input validation.\"\"\"\n",
    "\n",
    "    # Input validation with clear error messages\n",
    "    if not isinstance(username, str):\n",
    "        raise TypeError(\"Username must be a string\")\n",
    "\n",
    "    if not username or len(username.strip()) == 0:\n",
    "        raise ValueError(\"Username cannot be empty or only whitespace\")\n",
    "\n",
    "    if len(username) < 3:\n",
    "        raise ValueError(\"Username must be at least 3 characters long\")\n",
    "\n",
    "    if not isinstance(age, int):\n",
    "        raise TypeError(\"Age must be an integer\")\n",
    "\n",
    "    if not (13 <= age <= 120):\n",
    "        raise ValueError(\"Age must be between 13 and 120\")\n",
    "\n",
    "    if not isinstance(email, str) or '@' not in email:\n",
    "        raise ValueError(\"Email must be a valid email address\")\n",
    "\n",
    "    # Only process if all validation passes\n",
    "    return {\n",
    "        \"username\": username.strip().lower(),\n",
    "        \"age\": age,\n",
    "        \"email\": email.lower(),\n",
    "        \"account_id\": f\"user_{username}_{age}\",\n",
    "        \"status\": \"active\"\n",
    "    }\n",
    "\n",
    "# Safe usage with validation\n",
    "try:\n",
    "    user = create_user_account(\"Alice123\", 25, \"alice@example.com\")\n",
    "    print(f\"Created user: {user}\")\n",
    "except (TypeError, ValueError) as e:\n",
    "    print(f\"Invalid input: {e}\")"
   ]
  },
  {
   "cell_type": "markdown",
   "metadata": {},
   "source": [
    "## Error handling patterns: EAFP vs LBYL 🤔\n",
    "\n",
    "- **EAFP**: \"Easier to Ask for Forgiveness than Permission\" - try it and handle exceptions\n",
    "- **LBYL**: \"Look Before You Leap\" - check conditions before attempting operations\n",
    "- **Python philosophy**: Generally prefers EAFP approach\n",
    "- **Performance**: EAFP can be faster when exceptions are rare\n",
    "- **Choose wisely**: Some situations favor one approach over the other"
   ]
  },
  {
   "cell_type": "code",
   "execution_count": null,
   "metadata": {},
   "outputs": [],
   "source": [
    "# LBYL Approach: Check first, then act\n",
    "def get_user_score_lbyl(users: dict, user_id: str) -> float:\n",
    "    \"\"\"Get user score using Look Before You Leap pattern.\"\"\"\n",
    "    if user_id not in users:\n",
    "        return 0.0\n",
    "\n",
    "    user = users[user_id]\n",
    "    if 'scores' not in user:\n",
    "        return 0.0\n",
    "\n",
    "    if len(user['scores']) == 0:\n",
    "        return 0.0\n",
    "\n",
    "    return sum(user['scores']) / len(user['scores'])\n",
    "\n",
    "# EAFP Approach: Try it and handle exceptions\n",
    "def get_user_score_eafp(users: dict, user_id: str) -> float:\n",
    "    \"\"\"Get user score using Easier to Ask Forgiveness pattern.\"\"\"\n",
    "    try:\n",
    "        scores = users[user_id]['scores']\n",
    "        return sum(scores) / len(scores)\n",
    "    except KeyError:\n",
    "        return 0.0  # User or scores key doesn't exist\n",
    "    except ZeroDivisionError:\n",
    "        return 0.0  # Empty scores list\n",
    "\n",
    "# When to use each approach\n",
    "def demonstrate_patterns():\n",
    "    users = {\n",
    "        \"alice\": {\"scores\": [85, 92, 78]},\n",
    "        \"bob\": {\"scores\": []},\n",
    "        \"charlie\": {}\n",
    "    }\n",
    "\n",
    "    # Both approaches handle the same edge cases\n",
    "    print(\"LBYL results:\", [get_user_score_lbyl(users, uid)\n",
    "                          for uid in [\"alice\", \"bob\", \"charlie\", \"diana\"]])\n",
    "    print(\"EAFP results:\", [get_user_score_eafp(users, uid)\n",
    "                          for uid in [\"alice\", \"bob\", \"charlie\", \"diana\"]])"
   ]
  },
  {
   "cell_type": "markdown",
   "metadata": {},
   "source": [
    "## Introducing Lab 05: Functions & Error Handling 🚀\n",
    "\n",
    "- This week's lab will have two parts, mirroring our two sessions\n",
    "- **Part 1: The refactor challenge** - Transform messy code into clean, professional functions\n",
    "- **Part 2: Bulletproof your code** - Add comprehensive error handling to make your code production-ready\n",
    "- **Skills practiced**: Function design, parameter handling, exception management, defensive programming\n",
    "- **AI assistance**: Use your AI partner strategically for both refactoring and error handling strategies\n",
    "\n",
    "**Lab objectives**: Clean code organization, defensive programming patterns, professional error handling"
   ]
  },
  {
   "cell_type": "code",
   "execution_count": null,
   "metadata": {},
   "outputs": [],
   "source": [
    "# Example data for refactoring demonstration\n",
    "users = [\n",
    "    {\"name\": \"alice\", \"age\": 30, \"is_active\": True, \"email\": \"alice@example.com\"},\n",
    "    {\"name\": \"bob\", \"age\": 25, \"is_active\": False},\n",
    "    {\"name\": \"charlie\", \"age\": 35, \"is_active\": True, \"email\": \"charlie@example.com\"},\n",
    "    {\"name\": \"david\", \"age\": \"unknown\", \"is_active\": False}\n",
    "]\n",
    "\n",
    "# From this (messy, fragile code)\n",
    "total = 0\n",
    "for user in users:\n",
    "    if user.get(\"age\"):\n",
    "        total += user[\"age\"]\n",
    "print(\"Average:\", total/len(users))  # Will crash if no users!\n",
    "\n",
    "# To this (clean, robust functions)\n",
    "def calculate_average_age(users: list[dict]) -> float | None:\n",
    "    \"\"\"Calculate average age with proper error handling.\"\"\"\n",
    "    try:\n",
    "        valid_ages = [user[\"age\"] for user in users\n",
    "                     if isinstance(user.get(\"age\"), (int, float))]\n",
    "        return sum(valid_ages) / len(valid_ages) if valid_ages else None\n",
    "    except (KeyError, TypeError) as e:\n",
    "        # In real apps, use proper logging instead of print\n",
    "        print(f\"Error calculating average age: {e}\")\n",
    "        return None"
   ]
  },
  {
   "cell_type": "markdown",
   "metadata": {},
   "source": [
    "## Summary: Professional Python development 🎯\n",
    "\n",
    "- **Functions**: The foundation of maintainable, testable code\n",
    "- **Error handling**: The difference between amateur and professional software\n",
    "- **Career skills**: These concepts appear in every technical interview and code review\n",
    "- **AI partnership**: Use AI to learn patterns, then apply your judgment\n",
    "- **Next steps**: Practice these patterns until they become second nature\n",
    "\n",
    "**Key takeaways for your development journey:**\n",
    "- **Design functions** that do one thing well with clear interfaces\n",
    "- **Handle errors** proactively rather than reactively\n",
    "- **Validate inputs** to prevent problems before they occur\n",
    "- **Use context managers** for automatic resource management\n",
    "- **Choose EAFP vs LBYL** based on your specific use case\n",
    "- **Write code** that your future self (and teammates) will thank you for"
   ]
  }
 ],
 "metadata": {
  "kernelspec": {
   "display_name": "3.10.4",
   "language": "python",
   "name": "python3"
  },
  "language_info": {
   "codemirror_mode": {
    "name": "ipython",
    "version": 3
   },
   "file_extension": ".py",
   "mimetype": "text/x-python",
   "name": "python",
   "nbconvert_exporter": "python",
   "pygments_lexer": "ipython3",
   "version": "3.10.4"
  }
 },
 "nbformat": 4,
 "nbformat_minor": 4
}
