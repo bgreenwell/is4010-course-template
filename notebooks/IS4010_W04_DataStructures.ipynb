{
  "cells": [
    {
      "cell_type": "markdown",
      "metadata": {},
      "source": [
        "# IS4010: AI-Enhanced Application Development\n",
        "## Week 4: Python Data Structures - Interactive Companion Notebook\n",
        "\n",
        "**Instructor:** Brandon M. Greenwell  \n",
        "**Course:** IS4010: AI-Enhanced Application Development  \n",
        "**Week:** 4 - Python Data Structures  \n",
        "\n",
        "---\n",
        "\n",
        "### 🎯 Learning Objectives\n",
        "\n",
        "By the end of this interactive session, you will be able to:\n",
        "\n",
        "- **Master all four core Python data structures**: lists, tuples, dictionaries, and sets\n",
        "- **Make performance-driven decisions** about data structure choice with measurable results\n",
        "- **Collaborate effectively with AI tools** for code optimization and design\n",
        "- **Apply list comprehensions** for concise and readable data processing\n",
        "- **Design optimal data structures** for real-world scenarios\n",
        "- **Critically evaluate AI recommendations** and document your reasoning\n",
        "\n",
        "### 🛠️ Prerequisites\n",
        "\n",
        "- Python 3.10+ installed\n",
        "- Access to a GenAI tool (Claude, ChatGPT, Gemini, etc.)\n",
        "- Basic understanding of Python variables, loops, and functions\n",
        "- Completed Labs 1-3\n",
        "\n",
        "### 🔗 Resources\n",
        "\n",
        "- [Python Data Structures Documentation](https://docs.python.org/3/tutorial/datastructures.html)\n",
        "- [List Comprehensions Guide](https://docs.python.org/3/tutorial/datastructures.html#list-comprehensions)\n",
        "- [Lab 04 Instructions](https://github.com/bgreenwell/is4010-course-template/blob/main/labs/lab04/README.md)\n",
        "\n",
        "---"
      ]
    },
    {
      "cell_type": "markdown",
      "metadata": {},
      "source": [
        "# 📦 Welcome to Python Data Structures\n",
        "\n",
        "## The Foundation of Organized Programming\n",
        "\n",
        "**Data structures** are the backbone of efficient programming. They determine how we organize, store, and access information. Every app you use relies on sophisticated data organization:\n",
        "\n",
        "- **Instagram feeds**: Lists of posts ordered by time\n",
        "- **User profiles**: Dictionaries mapping usernames to account information  \n",
        "- **Unique hashtags**: Sets ensuring no duplicates\n",
        "- **GPS coordinates**: Tuples of immutable latitude/longitude pairs\n",
        "\n",
        "Understanding data structures is essential for:\n",
        "- ✅ **Technical interviews** - Common coding questions\n",
        "- ✅ **Performance optimization** - Right structure = faster apps\n",
        "- ✅ **Career relevance** - Industry standard knowledge\n",
        "- ✅ **AI collaboration** - Better prompts, better results\n",
        "\n",
        "### 🤔 Reflection Question\n",
        "\n",
        "Before we dive in, think about an app you use daily. What types of data does it organize? How might different data structures be used?\n",
        "\n",
        "*Write your thoughts in the cell below:*"
      ]
    },
    {
      "cell_type": "markdown",
      "metadata": {},
      "source": [
        "**Your reflection here:**\n",
        "\n",
        "_Double-click this cell to edit and write your thoughts about data organization in apps you use._"
      ]
    },
    {
      "cell_type": "markdown",
      "metadata": {},
      "source": [
        "---\n",
        "\n",
        "# Session 1: Sequences & Collections\n",
        "\n",
        "## What is a Data Structure? 🤔\n",
        "\n",
        "A **data structure** is a way to organize and store multiple pieces of data in a single variable. Think of them as **specialized containers** for your data.\n",
        "\n",
        "**Python's built-in arsenal:**\n",
        "- **[Lists](https://docs.python.org/3/tutorial/introduction.html#lists)** - Ordered, changeable sequences\n",
        "- **[Tuples](https://docs.python.org/3/tutorial/datastructures.html#tuples-and-sequences)** - Ordered, unchangeable sequences  \n",
        "- **[Dictionaries](https://docs.python.org/3/tutorial/datastructures.html#dictionaries)** - Key-value pair mappings\n",
        "- **[Sets](https://docs.python.org/3/tutorial/datastructures.html#sets)** - Unique item collections\n",
        "\n",
        "**Why choosing wisely matters:**\n",
        "- The right data structure makes your code faster, cleaner, and more maintainable\n",
        "- Different structures excel at different operations\n",
        "- Performance can vary from milliseconds to nanoseconds!"
      ]
    },
    {
      "cell_type": "markdown",
      "metadata": {},
      "source": [
        "## The List: A Mutable Sequence 📝\n",
        "\n",
        "A **[list](https://docs.python.org/3/tutorial/introduction.html#lists)** is an ordered, changeable collection of items - the workhorse of Python programming.\n",
        "\n",
        "**Key characteristics:**\n",
        "- **Ordered**: Items maintain their position\n",
        "- **Mutable**: Add, remove, or modify items after creation\n",
        "- **Dynamic size**: Grow or shrink as needed\n",
        "- **Zero-based indexing**: First item is at index 0"
      ]
    },
    {
      "cell_type": "code",
      "execution_count": null,
      "metadata": {},
      "outputs": [],
      "source": [
        "# Creating and working with lists - Computer Science Pioneers\n",
        "pioneers = [\"Grace Hopper\", \"Ada Lovelace\", \"Katherine Johnson\"]\n",
        "\n",
        "print(f\"Original list: {pioneers}\")\n",
        "print(f\"Number of pioneers: {len(pioneers)}\")\n",
        "print(f\"First pioneer: {pioneers[0]}\")\n",
        "print(f\"Last pioneer: {pioneers[-1]}\")"
      ]
    },
    {
      "cell_type": "code",
      "execution_count": null,
      "metadata": {},
      "outputs": [],
      "source": [
        "# Modifying lists - Adding new pioneers\n",
        "pioneers.append(\"Dorothy Vaughan\")  # Add to end\n",
        "pioneers.insert(1, \"Hedy Lamarr\")   # Insert at specific position\n",
        "\n",
        "# Update an item\n",
        "pioneers[0] = \"Rear Admiral Grace Hopper\"\n",
        "\n",
        "print(f\"Updated list: {pioneers}\")\n",
        "print(f\"Now we have {len(pioneers)} pioneers!\")"
      ]
    },
    {
      "cell_type": "code",
      "execution_count": null,
      "metadata": {},
      "outputs": [],
      "source": [
        "# Useful list methods\n",
        "print(f\"Index of Ada Lovelace: {pioneers.index('Ada Lovelace')}\")\n",
        "print(f\"Count of 'Ada Lovelace': {pioneers.count('Ada Lovelace')}\")\n",
        "\n",
        "# Remove items\n",
        "removed = pioneers.pop()  # Remove and return last item\n",
        "print(f\"Removed: {removed}\")\n",
        "print(f\"Final list: {pioneers}\")"
      ]
    },
    {
      "cell_type": "markdown",
      "metadata": {},
      "source": [
        "### 🛠️ Your Turn: Practice with Lists\n",
        "\n",
        "Create your own list and practice the operations:"
      ]
    },
    {
      "cell_type": "code",
      "execution_count": null,
      "metadata": {},
      "outputs": [],
      "source": [
        "# TODO: Create a list of your favorite programming languages\n",
        "my_languages = []\n",
        "\n",
        "# TODO: Add at least 3 languages to your list\n",
        "\n",
        "# TODO: Print the list and its length\n",
        "\n",
        "# TODO: Access the first and last items\n",
        "\n",
        "# TODO: Insert a new language at position 1\n",
        "\n",
        "# TODO: Remove the last language and print what was removed"
      ]
    },
    {
      "cell_type": "markdown",
      "metadata": {},
      "source": [
        "## The Tuple: An Immutable Sequence 🔒\n",
        "\n",
        "A **[tuple](https://docs.python.org/3/tutorial/datastructures.html#tuples-and-sequences)** is an ordered, unchangeable collection of items.\n",
        "\n",
        "**Key characteristics:**\n",
        "- **Ordered**: Like lists, items maintain their position\n",
        "- **Immutable**: Cannot add, remove, or change items after creation\n",
        "- **Performance advantage**: Slightly faster than lists for accessing elements\n",
        "- **Memory efficient**: Less overhead due to immutability\n",
        "\n",
        "**Perfect for:**\n",
        "- Coordinates (latitude, longitude)\n",
        "- RGB color values\n",
        "- Database records\n",
        "- Function return values"
      ]
    },
    {
      "cell_type": "code",
      "execution_count": null,
      "metadata": {},
      "outputs": [],
      "source": [
        "# Real-world tuple examples\n",
        "\n",
        "# Cincinnati coordinates (latitude, longitude)\n",
        "cincinnati_location = (39.1031, -84.5120)\n",
        "denver_location = (39.7391, -104.9847)\n",
        "\n",
        "print(f\"Cincinnati: {cincinnati_location}\")\n",
        "print(f\"Denver: {denver_location}\")\n",
        "\n",
        "# UC Brand Colors (RGB values)\n",
        "uc_blue = (0, 123, 191)\n",
        "uc_red = (224, 18, 34)\n",
        "black = (0, 0, 0)\n",
        "\n",
        "brand_colors = (uc_blue, uc_red, black)\n",
        "print(f\"UC Brand Colors: {brand_colors}\")"
      ]
    },
    {
      "cell_type": "code",
      "execution_count": null,
      "metadata": {},
      "outputs": [],
      "source": [
        "# Tuple unpacking - A very common Python pattern!\n",
        "lat, lon = cincinnati_location\n",
        "print(f\"Cincinnati is at latitude {lat}, longitude {lon}\")\n",
        "\n",
        "# Multiple return values from functions\n",
        "def get_student_info():\n",
        "    return \"Alice Johnson\", 95.5, \"IS4010\"  # Returns a tuple!\n",
        "\n",
        "name, grade, course = get_student_info()  # Tuple unpacking\n",
        "print(f\"Student: {name}, Grade: {grade}, Course: {course}\")"
      ]
    },
    {
      "cell_type": "markdown",
      "metadata": {},
      "source": [
        "### 🛠️ Your Turn: Practice with Tuples"
      ]
    },
    {
      "cell_type": "code",
      "execution_count": null,
      "metadata": {},
      "outputs": [],
      "source": [
        "# TODO: Create a tuple representing your favorite restaurant's location (name, latitude, longitude)\n",
        "\n",
        "# TODO: Unpack the tuple into separate variables\n",
        "\n",
        "# TODO: Print a formatted message about the restaurant\n",
        "\n",
        "# TODO: Create a function that returns multiple pieces of information about yourself\n",
        "# (name, major, year, favorite_color) and unpack the result\n",
        "\n",
        "# TODO: Call the function and unpack the results"
      ]
    },
    {
      "cell_type": "markdown",
      "metadata": {},
      "source": [
        "## Quick Introduction: List Comprehensions 📝\n",
        "\n",
        "Python has a concise way to create lists called **[list comprehensions](https://docs.python.org/3/tutorial/datastructures.html#list-comprehensions)** - perfect for generating test data!\n",
        "\n",
        "**Pattern:** `[expression for item in iterable]`\n",
        "\n",
        "**Why learn this now?**\n",
        "- Perfect for generating test data (which we'll need for performance testing!)\n",
        "- More readable and Pythonic than traditional loops\n",
        "- We'll use this pattern extensively in data processing"
      ]
    },
    {
      "cell_type": "code",
      "execution_count": null,
      "metadata": {},
      "outputs": [],
      "source": [
        "# Traditional approach with loops\n",
        "numbers = []\n",
        "for i in range(5):\n",
        "    numbers.append(i * 2)\n",
        "print(f\"Traditional loop: {numbers}\")\n",
        "\n",
        "# List comprehension - more concise!\n",
        "numbers_comp = [i * 2 for i in range(5)]\n",
        "print(f\"List comprehension: {numbers_comp}\")\n",
        "\n",
        "# Pattern: [expression for item in iterable]\n",
        "emails = [f\"user_{i}@email.com\" for i in range(3)]\n",
        "print(f\"Generated emails: {emails}\")"
      ]
    },
    {
      "cell_type": "markdown",
      "metadata": {},
      "source": [
        "### 🛠️ Your Turn: Practice List Comprehensions"
      ]
    },
    {
      "cell_type": "code",
      "execution_count": null,
      "metadata": {},
      "outputs": [],
      "source": [
        "# TODO: Create a list of squares for numbers 1-10 using a list comprehension\n",
        "\n",
        "# TODO: Create a list of even numbers from 0-20 using a list comprehension\n",
        "\n",
        "# TODO: Create a list of customer emails for customer IDs 100-105"
      ]
    },
    {
      "cell_type": "markdown",
      "metadata": {},
      "source": [
        "---\n",
        "\n",
        "# 🔬 Interactive Exercise: AI-Assisted Performance Detective\n",
        "\n",
        "**Challenge:** Help optimize this slow code using GenAI tools!\n",
        "\n",
        "## Step 1: The Slow Code\n",
        "\n",
        "First, let's create some test data and implement a slow customer VIP lookup system."
      ]
    },
    {
      "cell_type": "code",
      "execution_count": null,
      "metadata": {},
      "outputs": [],
      "source": [
        "import time\n",
        "\n",
        "# Generate large customer database using list comprehensions!\n",
        "customers = [f\"customer_{i}@email.com\" for i in range(50000)]\n",
        "vip_customers = [f\"customer_{i}@email.com\" for i in range(0, 50000, 100)]  # Every 100th customer\n",
        "\n",
        "print(f\"Total customers: {len(customers):,}\")\n",
        "print(f\"VIP customers: {len(vip_customers):,}\")\n",
        "print(f\"First few VIPs: {vip_customers[:5]}\")"
      ]
    },
    {
      "cell_type": "code",
      "execution_count": null,
      "metadata": {},
      "outputs": [],
      "source": [
        "# Slow approach - checking VIP status using list membership\n",
        "def is_vip_slow(email, vip_list):\n",
        "    \"\"\"Check if customer is VIP - using list membership\"\"\"\n",
        "    return email in vip_list\n",
        "\n",
        "# Let's time this approach\n",
        "start_time = time.time()\n",
        "vip_count = 0\n",
        "\n",
        "for customer in customers[:1000]:  # Check first 1000 customers\n",
        "    if is_vip_slow(customer, vip_customers):\n",
        "        vip_count += 1\n",
        "\n",
        "slow_time = time.time() - start_time\n",
        "print(f\"Slow approach: {slow_time:.4f} seconds, found {vip_count} VIPs\")"
      ]
    },
    {
      "cell_type": "markdown",
      "metadata": {},
      "source": [
        "## Step 2: Consult Your AI Partner 🤖\n",
        "\n",
        "**Your Mission:**\n",
        "1. Open your preferred GenAI tool (Claude, ChatGPT, Gemini, etc.)\n",
        "2. Use this prompt (copy and paste):\n",
        "\n",
        "```\n",
        "Analyze this Python code for performance bottlenecks and suggest optimizations using different data structures:\n",
        "\n",
        "[Copy the slow code from above]\n",
        "\n",
        "Focus on:\n",
        "- What data structure would be better for VIP lookups?\n",
        "- Why is the current approach slow?\n",
        "- What's the time complexity difference?\n",
        "```\n",
        "\n",
        "**Document your AI's response here:**"
      ]
    },
    {
      "cell_type": "markdown",
      "metadata": {},
      "source": [
        "**AI Response Documentation:**\n",
        "\n",
        "_Double-click this cell and paste your AI's recommendations here. Include the key insights about data structure choice and performance._\n",
        "\n",
        "**Key insights from AI:**\n",
        "- \n",
        "- \n",
        "- \n",
        "\n",
        "**Recommended data structure:**\n",
        "\n",
        "**Reasoning:**"
      ]
    },
    {
      "cell_type": "markdown",
      "metadata": {},
      "source": [
        "## Step 3: Implement the AI's Recommendation"
      ]
    },
    {
      "cell_type": "code",
      "execution_count": null,
      "metadata": {},
      "outputs": [],
      "source": [
        "# Optimized approach - After consulting with GenAI\n",
        "# Convert VIP list to set for O(1) lookups (AI recommendation!)\n",
        "vip_customers_set = set(vip_customers)\n",
        "\n",
        "def is_vip_fast(email, vip_set):\n",
        "    \"\"\"Check if customer is VIP - using set membership\"\"\"\n",
        "    return email in vip_set\n",
        "\n",
        "# Time the optimized approach\n",
        "start_time = time.time()\n",
        "vip_count_fast = 0\n",
        "\n",
        "for customer in customers[:1000]:\n",
        "    if is_vip_fast(customer, vip_customers_set):\n",
        "        vip_count_fast += 1\n",
        "\n",
        "fast_time = time.time() - start_time\n",
        "\n",
        "print(f\"Fast approach: {fast_time:.4f} seconds, found {vip_count_fast} VIPs\")\n",
        "print(f\"Speedup: {slow_time/fast_time:.1f}x faster!\")\n",
        "print(f\"Time saved: {(slow_time - fast_time)*1000:.1f} milliseconds\")"
      ]
    },
    {
      "cell_type": "markdown",
      "metadata": {},
      "source": [
        "## Step 4: Reflection and Learning\n",
        "\n",
        "**Discussion Questions:**\n",
        "1. How accurate was your AI's recommendation?\n",
        "2. What surprised you about the performance difference?\n",
        "3. When might you still prefer a list over a set?\n",
        "4. What other optimizations did your AI suggest?"
      ]
    },
    {
      "cell_type": "markdown",
      "metadata": {},
      "source": [
        "**Your Reflection:**\n",
        "\n",
        "_Double-click to edit and write your thoughts about the AI collaboration and performance results._"
      ]
    },
    {
      "cell_type": "markdown",
      "metadata": {},
      "source": [
        "### 🎯 Key Takeaways\n",
        "\n",
        "- **List membership (`in`)**: O(n) - slow for large datasets\n",
        "- **Set membership (`in`)**: O(1) - extremely fast\n",
        "- **AI tools excel** at identifying common optimization patterns\n",
        "- **Real impact**: This optimization matters in production systems\n",
        "- **Learning loop**: AI suggestions → implementation → measurement → iteration"
      ]
    },
    {
      "cell_type": "markdown",
      "metadata": {},
      "source": [
        "---\n",
        "\n",
        "# Session 2: Mappings & Collections"
      ]
    },
    {
      "cell_type": "markdown",
      "metadata": {},
      "source": [
        "## The Dictionary: Key-Value Pairs 🗝️\n",
        "\n",
        "A **[dictionary](https://docs.python.org/3/tutorial/datastructures.html#dictionaries)** is a collection of `key: value` pairs optimized for lightning-fast lookups.\n",
        "\n",
        "**Key characteristics:**\n",
        "- **Fast lookups**: O(1) average time to find values by key\n",
        "- **Unique keys**: Each key appears only once\n",
        "- **Mutable**: Add, remove, or change items after creation\n",
        "- **Ordered** (Python 3.7+): Maintains insertion order"
      ]
    },
    {
      "cell_type": "code",
      "execution_count": 1,
      "metadata": {},
      "outputs": [
        {
          "name": "stdout",
          "output_type": "stream",
          "text": [
            "User: ada_lovelace\n",
            "Born: 1815\n",
            "Followers: 125,000\n",
            "Updated: ada_lovelace now has 126,000 followers\n"
          ]
        }
      ],
      "source": [
        "# Real-world dictionary example - User profile system\n",
        "user_profile = {\n",
        "    \"username\": \"ada_lovelace\",\n",
        "    \"first_name\": \"Ada\",\n",
        "    \"last_name\": \"Lovelace\",\n",
        "    \"birth_year\": 1815,\n",
        "    \"occupation\": \"Mathematician\",\n",
        "    \"famous_for\": \"First computer programmer\",\n",
        "    \"followers\": 125000,\n",
        "    \"verified\": True,\n",
        "    \"programming_languages\": [\"Analytical Engine\", \"Mathematics\"]\n",
        "}\n",
        "\n",
        "# Accessing values (multiple ways)\n",
        "print(f\"User: {user_profile['username']}\")\n",
        "print(f\"Born: {user_profile.get('birth_year', 'Unknown')}\")  # Safe access\n",
        "print(f\"Followers: {user_profile['followers']:,}\")\n",
        "\n",
        "# Adding and updating\n",
        "user_profile[\"location\"] = \"London, England\"\n",
        "user_profile[\"followers\"] += 1000  # New followers!\n",
        "\n",
        "print(f\"Updated: {user_profile['username']} now has {user_profile['followers']:,} followers\")"
      ]
    },
    {
      "cell_type": "markdown",
      "metadata": {},
      "source": [
        "### 🔍 Dictionary Deep Dive: Indexing, Methods & Best Practices\n",
        "\n",
        "Now let's explore the full power of Python dictionaries with advanced indexing techniques and essential methods."
      ]
    },
    {
      "cell_type": "code",
      "execution_count": 4,
      "metadata": {},
      "outputs": [
        {
          "name": "stdout",
          "output_type": "stream",
          "text": [
            "=== Dictionary Indexing Examples ===\n",
            "Username: ada_lovelace\n",
            "Middle name: Not provided\n",
            "Age: Unknown\n",
            "Calculated age: 209 years old\n",
            "KeyError handled gracefully\n",
            "Followers with default: 126,000\n"
          ]
        }
      ],
      "source": [
        "# Dictionary indexing and safe access methods\n",
        "print(\"=== Dictionary Indexing Examples ===\")\n",
        "\n",
        "# Direct indexing - fast but can raise KeyError\n",
        "print(f\"Username: {user_profile['username']}\")\n",
        "\n",
        "# Safe access with .get() - returns None or default if key missing\n",
        "print(f\"Middle name: {user_profile.get('middle_name', 'Not provided')}\")\n",
        "print(f\"Age: {user_profile.get('age', 'Unknown')}\")\n",
        "\n",
        "# Check if key exists before accessing\n",
        "if 'birth_year' in user_profile:\n",
        "    current_year = 2024\n",
        "    age = current_year - user_profile['birth_year']\n",
        "    print(f\"Calculated age: {age} years old\")\n",
        "\n",
        "# Multiple ways to handle missing keys\n",
        "try:\n",
        "    print(user_profile['nonexistent_key'])\n",
        "except KeyError:\n",
        "    print(\"KeyError handled gracefully\")\n",
        "\n",
        "print(f\"Followers with default: {user_profile.get('followers', 0):,}\")"
      ]
    },
    {
      "cell_type": "code",
      "execution_count": null,
      "metadata": {},
      "outputs": [],
      "source": [
        "# Essential dictionary methods - the complete toolkit\n",
        "print(\"=== Dictionary Methods in Action ===\")\n",
        "\n",
        "# View all available methods\n",
        "print(\"Dictionary methods:\", [method for method in dir(user_profile) if not method.startswith('_')][:10])\n",
        "\n",
        "# Keys, values, and items\n",
        "print(f\"All keys: {list(user_profile.keys())}\")\n",
        "print(f\"All values: {list(user_profile.values())[:3]}...\")  # First 3 values\n",
        "print(f\"All items: {list(user_profile.items())[:2]}...\")    # First 2 key-value pairs\n",
        "\n",
        "# Update with another dictionary\n",
        "social_media = {\n",
        "    \"twitter\": \"@ada_lovelace_codes\",\n",
        "    \"github\": \"ada-codes\",\n",
        "    \"linkedin\": \"ada-lovelace-dev\"\n",
        "}\n",
        "\n",
        "user_profile.update(social_media)\n",
        "print(f\"After update: {list(user_profile.keys())[-3:]}\")  # Last 3 keys added"
      ]
    },
    {
      "cell_type": "code",
      "execution_count": null,
      "metadata": {},
      "outputs": [
        {
          "data": {
            "text/plain": [
              "[str, str, str, int, str, str, int, bool, list, str]"
            ]
          },
          "execution_count": 8,
          "metadata": {},
          "output_type": "execute_result"
        }
      ],
      "source": [
        "[type(value) for value in user_profile.values()]  # IGNORE\n",
        "\n",
        "# Write the above list comprehension in a for loop\n",
        "types = []\n",
        "for value in user_profile.values():\n",
        "    types.append(type(value))\n",
        "print(types)  # IGNORE"
      ]
    },
    {
      "cell_type": "code",
      "execution_count": null,
      "metadata": {},
      "outputs": [],
      "source": []
    },
    {
      "cell_type": "code",
      "execution_count": 13,
      "metadata": {},
      "outputs": [
        {
          "name": "stdout",
          "output_type": "stream",
          "text": [
            "=== Advanced Dictionary Patterns ===\n",
            "Squared dictionary: {1: 1, 2: 4, 3: 9, 4: 16, 5: 25}\n",
            "Active users only: {'alice': {'last_login': '2024-01-15', 'status': 'active'}, 'charlie': {'last_login': '2024-01-16', 'status': 'active'}}\n",
            "Alice's last login: 2024-01-15\n",
            "Bob's email: Not provided\n",
            "Achievements: ['First programmer']\n"
          ]
        }
      ],
      "source": [
        "# Advanced dictionary operations and patterns\n",
        "print(\"=== Advanced Dictionary Patterns ===\")\n",
        "\n",
        "# Dictionary comprehensions - like list comprehensions but for dicts!\n",
        "numbers = [1, 2, 3, 4, 5]\n",
        "squared_dict = {num: num**2 for num in numbers}\n",
        "print(f\"Squared dictionary: {squared_dict}\")\n",
        "\n",
        "# Filtering with dictionary comprehensions\n",
        "active_users = {\n",
        "    \"alice\": {\"last_login\": \"2024-01-15\", \"status\": \"active\"},\n",
        "    \"bob\": {\"last_login\": \"2023-12-20\", \"status\": \"inactive\"},\n",
        "    \"charlie\": {\"last_login\": \"2024-01-16\", \"status\": \"active\"}\n",
        "}\n",
        "\n",
        "active_only = {name: data for name, data in active_users.items() if data[\"status\"] == \"active\"}\n",
        "print(f\"Active users only: {active_only}\")\n",
        "\n",
        "# Nested dictionary access\n",
        "print(f\"Alice's last login: {active_users['alice']['last_login']}\")\n",
        "\n",
        "# Safe nested access with get()\n",
        "print(f\"Bob's email: {active_users.get('bob', {}).get('email', 'Not provided')}\")\n",
        "\n",
        "# setdefault - add key only if it doesn't exist\n",
        "user_profile.setdefault('achievements', [])\n",
        "user_profile['achievements'].append('First programmer')\n",
        "print(f\"Achievements: {user_profile['achievements']}\")"
      ]
    },
    {
      "cell_type": "code",
      "execution_count": 10,
      "metadata": {},
      "outputs": [
        {
          "name": "stdout",
          "output_type": "stream",
          "text": [
            "{'1': 1, '2': 4, '3': 9, '4': 16, '5': 25}\n"
          ]
        }
      ],
      "source": [
        "numbers = [1, 2, 3, 4, 5]\n",
        "squared_dict = {str(num): num**2 for num in numbers}\n",
        "print(squared_dict)"
      ]
    },
    {
      "cell_type": "code",
      "execution_count": 12,
      "metadata": {},
      "outputs": [
        {
          "data": {
            "text/plain": [
              "4"
            ]
          },
          "execution_count": 12,
          "metadata": {},
          "output_type": "execute_result"
        }
      ],
      "source": [
        "squared_dict['2']"
      ]
    },
    {
      "cell_type": "markdown",
      "metadata": {},
      "source": [
        "### 🛠️ Your Turn: Dictionary Mastery Practice\n",
        "\n",
        "Practice the dictionary concepts with these hands-on exercises:"
      ]
    },
    {
      "cell_type": "code",
      "execution_count": 21,
      "metadata": {},
      "outputs": [
        {
          "name": "stdout",
          "output_type": "stream",
          "text": [
            "KeyError handled gracefully\n",
            "Is PHONE001 in stock? No\n",
            "Product names: {'LAPTOP001': 'Gaming Laptop', 'PHONE001': 'Smartphone', 'BOOK001': 'Python Programming', 'TABLET001': 'Tablet', 'HEADPHONES001': 'Wireless Headphones'}\n",
            "Gaming Laptop\n",
            "Smartphone\n",
            "Python Programming\n",
            "Tablet\n",
            "Wireless Headphones\n"
          ]
        },
        {
          "data": {
            "text/plain": [
              "{'name': 'Smartphone', 'price': 699.99, 'stock': 0, 'category': 'Electronics'}"
            ]
          },
          "execution_count": 21,
          "metadata": {},
          "output_type": "execute_result"
        }
      ],
      "source": [
        "# TODO: Create a product inventory dictionary\n",
        "# Include: product_id, name, price, stock_quantity, category\n",
        "inventory = {\n",
        "    \"LAPTOP001\": {\"name\": \"Gaming Laptop\", \"price\": 1299.99, \"stock\": 15, \"category\": \"Electronics\"},\n",
        "    \"PHONE001\": {\"name\": \"Smartphone\", \"price\": 699.99, \"stock\": 0, \"category\": \"Electronics\"},\n",
        "    \"BOOK001\": {\"name\": \"Python Programming\", \"price\": 39.99, \"stock\": 25, \"category\": \"Books\"}\n",
        "}\n",
        "\n",
        "# TODO: Practice safe access - get the price of \"LAPTOP001\"\n",
        "try:\n",
        "    inventory[\"LAPTOP001\"][\"type\"]\n",
        "except KeyError:\n",
        "    print(\"KeyError handled gracefully\")\n",
        "\n",
        "# TODO: Check if \"PHONE001\" is in stock (stock_quantity > 0)\n",
        "is_in_stock = inventory.get(\"PHONE001\", {}).get(\"stock\", 0) > 0\n",
        "print(f\"Is PHONE001 in stock? {'Yes' if is_in_stock else 'No'}\")\n",
        "\n",
        "\n",
        "# TODO: Add a new product using setdefault\n",
        "inventory.setdefault(\"TABLET001\", {\"name\": \"Tablet\", \"price\": 499.99, \"stock\": 30, \"category\": \"Electronics\"})\n",
        "\n",
        "# Add to dict using []\n",
        "inventory[\"HEADPHONES001\"] = {\"name\": \"Wireless Headphones\", \"price\": 199.99, \"stock\": 50, \"category\": \"Electronics\"}\n",
        "\n",
        "# TODO: Create a dictionary comprehension to get all product names\n",
        "product_names = {pid: details[\"name\"] for pid, details in inventory.items()}\n",
        "print(f\"Product names: {product_names}\")\n",
        "\n",
        "# DO the same using a list comprehension\n",
        "product_names_list = [details[\"name\"] for details in inventory.values()]\n",
        "\n",
        "# Now use a for loop to print each product name\n",
        "for name in inventory.values():\n",
        "    print(name[\"name\"])\n",
        "\n",
        "# TODO: Filter to get only products with stock > 10\n",
        "\n",
        "# TODO: Use .pop() to remove PHONE001 and print what was removed\n",
        "inventory.pop(\"PHONE001\", None)  # Remove PHONE001 if it exists"
      ]
    },
    {
      "cell_type": "code",
      "execution_count": 22,
      "metadata": {},
      "outputs": [
        {
          "data": {
            "text/plain": [
              "{'LAPTOP001': {'name': 'Gaming Laptop',\n",
              "  'price': 1299.99,\n",
              "  'stock': 15,\n",
              "  'category': 'Electronics'},\n",
              " 'BOOK001': {'name': 'Python Programming',\n",
              "  'price': 39.99,\n",
              "  'stock': 25,\n",
              "  'category': 'Books'},\n",
              " 'TABLET001': {'name': 'Tablet',\n",
              "  'price': 499.99,\n",
              "  'stock': 30,\n",
              "  'category': 'Electronics'},\n",
              " 'HEADPHONES001': {'name': 'Wireless Headphones',\n",
              "  'price': 199.99,\n",
              "  'stock': 50,\n",
              "  'category': 'Electronics'}}"
            ]
          },
          "execution_count": 22,
          "metadata": {},
          "output_type": "execute_result"
        }
      ],
      "source": [
        "inventory"
      ]
    },
    {
      "cell_type": "markdown",
      "metadata": {},
      "source": [
        "## The Set: Unique Items Only 🎯\n",
        "\n",
        "A **[set](https://docs.python.org/3/tutorial/datastructures.html#sets)** is an unordered collection of **unique** items.\n",
        "\n",
        "**Key characteristics:**\n",
        "- **No duplicates**: Automatically removes duplicate entries\n",
        "- **Fast membership testing**: `item in set` is extremely efficient\n",
        "- **Mathematical operations**: Union, intersection, difference\n",
        "- **Mutable**: Add and remove items after creation"
      ]
    },
    {
      "cell_type": "code",
      "execution_count": 23,
      "metadata": {},
      "outputs": [
        {
          "name": "stdout",
          "output_type": "stream",
          "text": [
            "Daily visitors (with duplicates): ['alice', 'bob', 'charlie', 'alice', 'david', 'alice', 'eve']\n",
            "Unique daily visitors: {'david', 'bob', 'charlie', 'eve', 'alice'}\n",
            "Unique daily count: 5\n",
            "All unique visitors: {'david', 'bob', 'helen', 'charlie', 'george', 'frank', 'eve', 'alice'}\n",
            "Returning visitors: {'bob', 'alice'}\n",
            "New visitors this month: {'frank', 'george', 'helen'}\n"
          ]
        }
      ],
      "source": [
        "# Website analytics: tracking unique visitors\n",
        "daily_visitors = [\"alice\", \"bob\", \"charlie\", \"alice\", \"david\", \"alice\", \"eve\"]\n",
        "monthly_visitors = [\"alice\", \"frank\", \"george\", \"bob\", \"helen\"]\n",
        "\n",
        "# Remove duplicates and get unique visitors\n",
        "unique_daily = set(daily_visitors)\n",
        "unique_monthly = set(monthly_visitors)\n",
        "\n",
        "print(f\"Daily visitors (with duplicates): {daily_visitors}\")\n",
        "print(f\"Unique daily visitors: {unique_daily}\")\n",
        "print(f\"Unique daily count: {len(unique_daily)}\")\n",
        "\n",
        "# Set operations (mathematical set theory)\n",
        "all_visitors = unique_daily | unique_monthly        # Union\n",
        "returning_visitors = unique_daily & unique_monthly  # Intersection\n",
        "new_visitors = unique_monthly - unique_daily        # Difference\n",
        "\n",
        "print(f\"All unique visitors: {all_visitors}\")\n",
        "print(f\"Returning visitors: {returning_visitors}\")\n",
        "print(f\"New visitors this month: {new_visitors}\")"
      ]
    },
    {
      "cell_type": "markdown",
      "metadata": {},
      "source": [
        "### 🎯 Set Deep Dive: Advanced Operations & Mathematical Power\n",
        "\n",
        "Sets are much more powerful than just removing duplicates. Let's explore their full mathematical capabilities and practical applications."
      ]
    },
    {
      "cell_type": "code",
      "execution_count": null,
      "metadata": {},
      "outputs": [],
      "source": [
        "# Advanced set operations - the mathematical toolkit\n",
        "print(\"=== Set Operations in Business Analytics ===\")\n",
        "\n",
        "# Customer segments from different marketing campaigns\n",
        "email_campaign = {\"alice\", \"bob\", \"charlie\", \"diana\", \"eve\"}\n",
        "social_media = {\"bob\", \"diana\", \"frank\", \"grace\", \"henry\"}\n",
        "referral_program = {\"alice\", \"charlie\", \"frank\", \"ivan\", \"jane\"}\n",
        "\n",
        "print(f\"Email campaign: {email_campaign}\")\n",
        "print(f\"Social media: {social_media}\")\n",
        "print(f\"Referral program: {referral_program}\")\n",
        "\n",
        "# Union (|) - All customers reached by ANY campaign\n",
        "all_customers = email_campaign | social_media | referral_program\n",
        "print(f\"Total unique customers reached: {len(all_customers)} -> {all_customers}\")\n",
        "\n",
        "# Intersection (&) - Customers reached by ALL campaigns\n",
        "super_engaged = email_campaign & social_media & referral_program\n",
        "print(f\"Super engaged (all 3 campaigns): {super_engaged}\")\n",
        "\n",
        "# Difference (-) - Customers only in email, not in social media\n",
        "email_only = email_campaign - social_media\n",
        "print(f\"Email-only customers: {email_only}\")\n",
        "\n",
        "# Symmetric difference (^) - Customers in email OR social media, but not both\n",
        "exclusive_reach = email_campaign ^ social_media\n",
        "print(f\"Exclusive reach (email XOR social): {exclusive_reach}\")"
      ]
    },
    {
      "cell_type": "code",
      "execution_count": null,
      "metadata": {},
      "outputs": [],
      "source": [
        "# Set methods and membership testing\n",
        "print(\"=== Set Methods and Testing ===\")\n",
        "\n",
        "# Available set methods\n",
        "sample_set = {1, 2, 3}\n",
        "print(\"Set methods:\", [method for method in dir(sample_set) if not method.startswith('_')][:10])\n",
        "\n",
        "# Create a skills tracking system\n",
        "required_skills = {\"python\", \"sql\", \"git\", \"statistics\"}\n",
        "applicant_a = {\"python\", \"java\", \"git\", \"docker\"}\n",
        "applicant_b = {\"python\", \"sql\", \"git\", \"statistics\", \"machine-learning\"}\n",
        "\n",
        "print(f\"Required skills: {required_skills}\")\n",
        "print(f\"Applicant A skills: {applicant_a}\")\n",
        "print(f\"Applicant B skills: {applicant_b}\")\n",
        "\n",
        "# Check qualifications using set methods\n",
        "a_qualified = required_skills.issubset(applicant_a)\n",
        "b_qualified = required_skills.issubset(applicant_b)\n",
        "\n",
        "print(f\"Applicant A qualified: {a_qualified}\")\n",
        "print(f\"Applicant B qualified: {b_qualified}\")\n",
        "\n",
        "# Find missing and extra skills\n",
        "a_missing = required_skills - applicant_a\n",
        "a_extra = applicant_a - required_skills\n",
        "b_extra = applicant_b - required_skills\n",
        "\n",
        "print(f\"Applicant A missing: {a_missing}\")\n",
        "print(f\"Applicant A extra skills: {a_extra}\")\n",
        "print(f\"Applicant B extra skills: {b_extra}\")\n",
        "\n",
        "# Fast membership testing\n",
        "print(f\"Does applicant A know Python? {'python' in applicant_a}\")\n",
        "print(f\"Does applicant A know Rust? {'rust' in applicant_a}\")"
      ]
    },
    {
      "cell_type": "code",
      "execution_count": 24,
      "metadata": {},
      "outputs": [
        {
          "name": "stdout",
          "output_type": "stream",
          "text": [
            "=== Set Comprehensions and Performance ===\n",
            "Even squares: {0, 64, 4, 36, 16}\n",
            "List membership test: 0.001083 seconds\n",
            "Set membership test: 0.000030 seconds\n",
            "Set is 36.0x faster for membership testing!\n",
            "Original list size: 10000\n",
            "After removing duplicates: 4\n",
            "Frozen set (immutable): frozenset({'read', 'write', 'execute'})\n"
          ]
        }
      ],
      "source": [
        "# Set comprehensions and advanced patterns\n",
        "print(\"=== Set Comprehensions and Performance ===\")\n",
        "\n",
        "# Set comprehension - like list comprehensions but creates sets\n",
        "even_squares = {x**2 for x in range(10) if x % 2 == 0}\n",
        "print(f\"Even squares: {even_squares}\")\n",
        "\n",
        "# Performance comparison: list vs set for membership testing\n",
        "import time\n",
        "\n",
        "# Large datasets\n",
        "large_list = list(range(100000))\n",
        "large_set = set(range(100000))\n",
        "\n",
        "# Test membership in list\n",
        "start = time.time()\n",
        "result1 = 99999 in large_list\n",
        "list_time = time.time() - start\n",
        "\n",
        "# Test membership in set\n",
        "start = time.time()\n",
        "result2 = 99999 in large_set\n",
        "set_time = time.time() - start\n",
        "\n",
        "print(f\"List membership test: {list_time:.6f} seconds\")\n",
        "print(f\"Set membership test: {set_time:.6f} seconds\")\n",
        "print(f\"Set is {list_time/set_time:.1f}x faster for membership testing!\")\n",
        "\n",
        "# Remove duplicates from large list\n",
        "data_with_duplicates = [1, 2, 2, 3, 3, 3, 4, 4, 4, 4] * 1000\n",
        "unique_data = list(set(data_with_duplicates))\n",
        "print(f\"Original list size: {len(data_with_duplicates)}\")\n",
        "print(f\"After removing duplicates: {len(unique_data)}\")\n",
        "\n",
        "# Working with immutable sets\n",
        "frozen_permissions = frozenset([\"read\", \"write\", \"execute\"])\n",
        "print(f\"Frozen set (immutable): {frozen_permissions}\")\n",
        "# frozen_permissions.add(\"admin\")  # This would raise an AttributeError!"
      ]
    },
    {
      "cell_type": "markdown",
      "metadata": {},
      "source": [
        "### 🛠️ Your Turn: Set Mastery Practice\n",
        "\n",
        "Apply set operations to solve real-world problems:"
      ]
    },
    {
      "cell_type": "code",
      "execution_count": null,
      "metadata": {},
      "outputs": [],
      "source": [
        "# TODO: Social media platform analysis\n",
        "instagram_followers = {\"alice\", \"bob\", \"charlie\", \"diana\", \"eve\", \"frank\"}\n",
        "twitter_followers = {\"bob\", \"diana\", \"grace\", \"henry\", \"ivan\", \"frank\"}\n",
        "tiktok_followers = {\"alice\", \"charlie\", \"grace\", \"jane\", \"diana\"}\n",
        "\n",
        "# TODO: Find followers who follow you on ALL platforms\n",
        "all_platforms = instagram_followers & twitter_followers & tiktok_followers\n",
        "\n",
        "# TODO: Find your total unique audience across all platforms\n",
        "total_audience = instagram_followers | twitter_followers | tiktok_followers\n",
        "# Do the same using set.union()\n",
        "total_audience_union = set().union(instagram_followers, twitter_followers, tiktok_followers)\n",
        "\n",
        "\n",
        "# TODO: Find followers who are ONLY on Instagram\n",
        "instagram_only = instagram_followers - (twitter_followers | tiktok_followers)\n",
        "\n",
        "# TODO: Find followers who are on Instagram OR Twitter, but not both\n",
        "instagram_twitter_xor = instagram_followers ^ twitter_followers\n",
        "\n",
        "# TODO: Use set comprehension to create tags from a blog post\n",
        "blog_post = \"Python programming data science machine learning AI artificial intelligence\"\n",
        "tags = {word.lower() for word in blog_post.split()}\n",
        "\n",
        "# TODO: Check if required skills are a subset of candidate skills\n",
        "required_job_skills = {\"python\", \"sql\", \"excel\"}\n",
        "candidate_skills = {\"python\", \"sql\", \"excel\", \"tableau\", \"r\"}\n",
        "\n",
        "# TODO: Find what additional skills the candidate brings"
      ]
    },
    {
      "cell_type": "markdown",
      "metadata": {},
      "source": [
        "### 🔄 Combining Dictionaries and Sets: Real-World Applications\n",
        "\n",
        "The most powerful solutions often combine multiple data structures. Let's see dictionaries and sets working together:"
      ]
    },
    {
      "cell_type": "code",
      "execution_count": null,
      "metadata": {},
      "outputs": [],
      "source": [
        "# Real-world example: E-commerce recommendation system\n",
        "print(\"=== E-commerce Recommendation System ===\")\n",
        "\n",
        "# User purchase history (dictionary with sets as values)\n",
        "user_purchases = {\n",
        "    \"alice\": {\"laptop\", \"mouse\", \"keyboard\", \"monitor\"},\n",
        "    \"bob\": {\"phone\", \"case\", \"charger\"},\n",
        "    \"charlie\": {\"laptop\", \"mouse\", \"headphones\"},\n",
        "    \"diana\": {\"tablet\", \"stylus\", \"case\", \"headphones\"}\n",
        "}\n",
        "\n",
        "# Product categories (dictionary mapping products to their categories)\n",
        "product_categories = {\n",
        "    \"laptop\": \"computers\", \"mouse\": \"accessories\", \"keyboard\": \"accessories\",\n",
        "    \"monitor\": \"displays\", \"phone\": \"mobile\", \"case\": \"accessories\",\n",
        "    \"charger\": \"accessories\", \"headphones\": \"audio\", \"tablet\": \"mobile\",\n",
        "    \"stylus\": \"accessories\"\n",
        "}\n",
        "\n",
        "print(\"User purchase history:\")\n",
        "for user, products in user_purchases.items():\n",
        "    print(f\"  {user}: {products}\")\n",
        "\n",
        "# Find users who bought similar products\n",
        "alice_products = user_purchases[\"alice\"]\n",
        "charlie_products = user_purchases[\"charlie\"]\n",
        "\n",
        "common_products = alice_products & charlie_products\n",
        "print(f\"Alice and Charlie both bought: {common_products}\")\n",
        "\n",
        "# Recommendation: products Alice bought that Charlie didn't\n",
        "recommendations_for_charlie = alice_products - charlie_products\n",
        "print(f\"Recommend to Charlie (based on Alice): {recommendations_for_charlie}\")\n",
        "\n",
        "# Find all users who bought accessories\n",
        "accessory_buyers = set()\n",
        "for user, products in user_purchases.items():\n",
        "    user_categories = {product_categories[product] for product in products}\n",
        "    if \"accessories\" in user_categories:\n",
        "        accessory_buyers.add(user)\n",
        "\n",
        "print(f\"Users who bought accessories: {accessory_buyers}\")\n",
        "\n",
        "# Category analysis using dictionary and set comprehensions\n",
        "category_buyers = {}\n",
        "for category in set(product_categories.values()):\n",
        "    buyers = {user for user, products in user_purchases.items() \n",
        "              if any(product_categories[product] == category for product in products)}\n",
        "    category_buyers[category] = buyers\n",
        "\n",
        "print(\"Buyers by category:\")\n",
        "for category, buyers in category_buyers.items():\n",
        "    print(f\"  {category}: {buyers}\")"
      ]
    },
    {
      "cell_type": "markdown",
      "metadata": {},
      "source": [
        "---\n",
        "\n",
        "# 🎯 Putting It All Together: Lab 04 Integration\n",
        "\n",
        "You've experienced the power of AI-assisted data structure optimization. Now apply those skills in [Lab 04](https://github.com/bgreenwell/is4010-course-template/blob/main/labs/lab04/README.md)!\n",
        "\n",
        "## Your AI Pair Programming Toolkit 🤖\n",
        "\n",
        "Based on today's exercises, here are proven prompt templates for Lab 04 success:\n",
        "\n",
        "### **For Performance Analysis:**\n",
        "```\n",
        "Analyze this Python code for performance bottlenecks and suggest optimizations using different data structures:\n",
        "\n",
        "[Your code here]\n",
        "\n",
        "Focus on:\n",
        "- What data structure would be better for [specific operation]?\n",
        "- Why is the current approach slow?\n",
        "- What's the time complexity difference?\n",
        "```\n",
        "\n",
        "### **For Data Structure Selection:**\n",
        "```\n",
        "I need to design data structures for this scenario:\n",
        "\n",
        "[Describe your problem]\n",
        "\n",
        "Requirements:\n",
        "- Fast lookup of [items] by [key]\n",
        "- Quick filtering by [criteria]  \n",
        "- Efficient [specific operation]\n",
        "\n",
        "What data structures should I use and why?\n",
        "```\n",
        "\n",
        "### **For Code Review:**\n",
        "```\n",
        "Review this Python implementation and suggest improvements for:\n",
        "- Data structure choice\n",
        "- Code readability  \n",
        "- Performance optimization\n",
        "\n",
        "[Your code here]\n",
        "\n",
        "What improvements can you suggest?\n",
        "```\n",
        "\n",
        "## Success Strategy for Lab 04\n",
        "\n",
        "1. 🤖 **Collaborate with AI** for data structure recommendations\n",
        "2. 💡 **Test and validate** AI suggestions with real code  \n",
        "3. 📝 **Document your reasoning** in `lab04_prompts.md`\n",
        "4. ✅ **Verify with automation** using GitHub Actions\n",
        "\n",
        "## Key Concepts to Apply\n",
        "\n",
        "- **List vs Set performance**: When uniqueness and fast membership matter\n",
        "- **Dictionary optimization**: Fast key-based lookups for complex data\n",
        "- **List comprehensions**: Concise data generation and processing\n",
        "- **Critical evaluation**: Balance AI suggestions with your understanding\n",
        "\n",
        "**Remember:** The goal isn't just to get the right answer, but to understand *why* it's right and *when* to use each approach."
      ]
    }
  ],
  "metadata": {
    "kernelspec": {
      "display_name": "3.10.4",
      "language": "python",
      "name": "python3"
    },
    "language_info": {
      "codemirror_mode": {
        "name": "ipython",
        "version": 3
      },
      "file_extension": ".py",
      "mimetype": "text/x-python",
      "name": "python",
      "nbconvert_exporter": "python",
      "pygments_lexer": "ipython3",
      "version": "3.10.4"
    }
  },
  "nbformat": 4,
  "nbformat_minor": 4
}
